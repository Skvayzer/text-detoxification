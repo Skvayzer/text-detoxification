{
 "cells": [
  {
   "cell_type": "code",
   "execution_count": 1,
   "metadata": {},
   "outputs": [
    {
     "name": "stderr",
     "output_type": "stream",
     "text": [
      "[nltk_data] Downloading package wordnet to /home/cosmos/nltk_data...\n",
      "[nltk_data]   Package wordnet is already up-to-date!\n"
     ]
    }
   ],
   "source": [
    "import nltk\n",
    "import re\n",
    "import pandas as pd\n",
    "\n",
    "# Download necessary NLTK resources\n",
    "nltk.download('wordnet')\n",
    "\n",
    "\n",
    "def remove_symbols(text: str) -> str:\n",
    "    \"\"\"remove punctuation, symbols and etc.\"\"\"\n",
    "\n",
    "    fix = text\n",
    "    fix = re.sub(r\"\\s+\", \" \", fix)\n",
    "    fix = re.sub(r\"\\d+\", \" \", fix)\n",
    "    fix = re.sub(r\"([.!?])\", r\" \", fix)\n",
    "    fix = re.sub(r\"[^a-zA-Z.!?]+\", r\" \", fix)\n",
    "    fix = fix.strip()\n",
    "    fix = fix.lower()\n",
    "\n",
    "    return fix"
   ]
  },
  {
   "cell_type": "code",
   "execution_count": 3,
   "metadata": {},
   "outputs": [],
   "source": [
    "import pandas as pd\n",
    "import numpy as np\n",
    "# data_path = '/content/drive/MyDrive/filtered.tsv'\n",
    "# model_cktp_path = 'pretrained.pt'\n",
    "\n",
    "# data = pd.read_csv(\n",
    "#     data_path, sep=\"\\t\", index_col=0\n",
    "# )\n",
    "# data.head()"
   ]
  },
  {
   "cell_type": "code",
   "execution_count": 5,
   "metadata": {},
   "outputs": [
    {
     "data": {
      "text/plain": [
       "'/home/cosmos/VScode Projects/MiraiVision/MLandDL/detoxification/solution/notebooks'"
      ]
     },
     "execution_count": 5,
     "metadata": {},
     "output_type": "execute_result"
    }
   ],
   "source": [
    "import os\n",
    "os.getcwd()"
   ]
  },
  {
   "cell_type": "code",
   "execution_count": 15,
   "metadata": {},
   "outputs": [
    {
     "data": {
      "text/html": [
       "<div>\n",
       "<style scoped>\n",
       "    .dataframe tbody tr th:only-of-type {\n",
       "        vertical-align: middle;\n",
       "    }\n",
       "\n",
       "    .dataframe tbody tr th {\n",
       "        vertical-align: top;\n",
       "    }\n",
       "\n",
       "    .dataframe thead th {\n",
       "        text-align: right;\n",
       "    }\n",
       "</style>\n",
       "<table border=\"1\" class=\"dataframe\">\n",
       "  <thead>\n",
       "    <tr style=\"text-align: right;\">\n",
       "      <th></th>\n",
       "      <th>tox</th>\n",
       "    </tr>\n",
       "  </thead>\n",
       "  <tbody>\n",
       "    <tr>\n",
       "      <th>0</th>\n",
       "      <td>4r5e</td>\n",
       "    </tr>\n",
       "    <tr>\n",
       "      <th>1</th>\n",
       "      <td>5h1t</td>\n",
       "    </tr>\n",
       "    <tr>\n",
       "      <th>2</th>\n",
       "      <td>5hit</td>\n",
       "    </tr>\n",
       "    <tr>\n",
       "      <th>3</th>\n",
       "      <td>a55</td>\n",
       "    </tr>\n",
       "    <tr>\n",
       "      <th>4</th>\n",
       "      <td>anal</td>\n",
       "    </tr>\n",
       "  </tbody>\n",
       "</table>\n",
       "</div>"
      ],
      "text/plain": [
       "    tox\n",
       "0  4r5e\n",
       "1  5h1t\n",
       "2  5hit\n",
       "3   a55\n",
       "4  anal"
      ]
     },
     "execution_count": 15,
     "metadata": {},
     "output_type": "execute_result"
    }
   ],
   "source": [
    "negative_words = pd.read_csv(\"../data/raw/negative-words.txt\", header=None)\n",
    "toxic_words = pd.read_csv(\"../data/raw/toxic_words.txt\", header=None)\n",
    "\n",
    "\n",
    "toxic_df = toxic_words.append(negative_words, ignore_index=True)\n",
    "toxic_df.rename(columns={ toxic_df.columns[0]: \"tox\" }, inplace = True)\n",
    "toxic_df.head()"
   ]
  },
  {
   "cell_type": "code",
   "execution_count": 9,
   "metadata": {},
   "outputs": [],
   "source": [
    "from nltk.corpus import wordnet\n",
    "def untoxify_word(word, blacklist):\n",
    "    synonyms = set()\n",
    "    for syn in wordnet.synsets(word):\n",
    "        for lemma in syn.lemmas():\n",
    "            # Check against blacklist\n",
    "            if lemma.name().lower() not in blacklist:\n",
    "                synonyms.add(lemma.name())\n",
    "\n",
    "    return list(synonyms)[0] if synonyms else None"
   ]
  },
  {
   "cell_type": "code",
   "execution_count": 17,
   "metadata": {},
   "outputs": [],
   "source": [
    "# Using the first column as a blacklist\n",
    "blacklist = set(toxic_df[\"tox\"].str.lower())\n",
    "\n",
    "# Apply the function to get non-toxic synonyms\n",
    "toxic_df[\"ntox\"] = toxic_df[\"tox\"].apply(lambda x: untoxify_word(x, blacklist))\n",
    "toxic_df = toxic_df.dropna()  # some of the results are None, so drop them"
   ]
  },
  {
   "cell_type": "code",
   "execution_count": 18,
   "metadata": {},
   "outputs": [
    {
     "data": {
      "text/html": [
       "<div>\n",
       "<style scoped>\n",
       "    .dataframe tbody tr th:only-of-type {\n",
       "        vertical-align: middle;\n",
       "    }\n",
       "\n",
       "    .dataframe tbody tr th {\n",
       "        vertical-align: top;\n",
       "    }\n",
       "\n",
       "    .dataframe thead th {\n",
       "        text-align: right;\n",
       "    }\n",
       "</style>\n",
       "<table border=\"1\" class=\"dataframe\">\n",
       "  <thead>\n",
       "    <tr style=\"text-align: right;\">\n",
       "      <th></th>\n",
       "      <th>tox</th>\n",
       "      <th>ntox</th>\n",
       "    </tr>\n",
       "  </thead>\n",
       "  <tbody>\n",
       "    <tr>\n",
       "      <th>4</th>\n",
       "      <td>anal</td>\n",
       "      <td>anal_retentive</td>\n",
       "    </tr>\n",
       "    <tr>\n",
       "      <th>8</th>\n",
       "      <td>arse</td>\n",
       "      <td>nates</td>\n",
       "    </tr>\n",
       "    <tr>\n",
       "      <th>9</th>\n",
       "      <td>ass</td>\n",
       "      <td>nates</td>\n",
       "    </tr>\n",
       "    <tr>\n",
       "      <th>11</th>\n",
       "      <td>asses</td>\n",
       "      <td>nates</td>\n",
       "    </tr>\n",
       "    <tr>\n",
       "      <th>14</th>\n",
       "      <td>asshole</td>\n",
       "      <td>bunghole</td>\n",
       "    </tr>\n",
       "  </tbody>\n",
       "</table>\n",
       "</div>"
      ],
      "text/plain": [
       "        tox            ntox\n",
       "4      anal  anal_retentive\n",
       "8      arse           nates\n",
       "9       ass           nates\n",
       "11    asses           nates\n",
       "14  asshole        bunghole"
      ]
     },
     "execution_count": 18,
     "metadata": {},
     "output_type": "execute_result"
    }
   ],
   "source": [
    "toxic_df.head()"
   ]
  },
  {
   "cell_type": "code",
   "execution_count": 24,
   "metadata": {},
   "outputs": [
    {
     "data": {
      "text/plain": [
       "'You are a tight illegitimate_child!'"
      ]
     },
     "execution_count": 24,
     "metadata": {},
     "output_type": "execute_result"
    }
   ],
   "source": [
    "\n",
    "# Create a replacement dictionary\n",
    "replacement_dict = dict(zip(toxic_df[\"tox\"], toxic_df[\"ntox\"]))\n",
    "\n",
    "\n",
    "# Function to replace toxic words in a sentence\n",
    "def replace_toxic_words(sentence):\n",
    "    for toxic, non_toxic in replacement_dict.items():\n",
    "        # \\b specifies word boundaries in regex, ensuring we're replacing whole words, not substrings\n",
    "        sentence = re.sub(r\"\\b\" + re.escape(toxic) + r\"\\b\", non_toxic, sentence)\n",
    "    return sentence\n",
    "\n",
    "\n",
    "replace_toxic_words(\"You are a nasty bastard!\")"
   ]
  },
  {
   "cell_type": "code",
   "execution_count": null,
   "metadata": {},
   "outputs": [],
   "source": []
  }
 ],
 "metadata": {
  "kernelspec": {
   "display_name": "env",
   "language": "python",
   "name": "python3"
  },
  "language_info": {
   "codemirror_mode": {
    "name": "ipython",
    "version": 3
   },
   "file_extension": ".py",
   "mimetype": "text/x-python",
   "name": "python",
   "nbconvert_exporter": "python",
   "pygments_lexer": "ipython3",
   "version": "3.10.7"
  },
  "orig_nbformat": 4
 },
 "nbformat": 4,
 "nbformat_minor": 2
}
